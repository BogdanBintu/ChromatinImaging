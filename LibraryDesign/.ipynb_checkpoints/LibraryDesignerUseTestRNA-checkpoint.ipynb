{
 "cells": [
  {
   "cell_type": "markdown",
   "metadata": {},
   "source": [
    "__Author:__ Bogdan Bintu\n",
    "\n",
    "__Date:__ 07/08/2018"
   ]
  },
  {
   "cell_type": "code",
   "execution_count": 2,
   "metadata": {},
   "outputs": [],
   "source": [
    "import glob,os,numpy as np\n",
    "import cPickle as pickle\n",
    "#Please install Biopython via: pip install Biopython\n",
    "import LibraryDesigner as ld\n",
    "import LibraryTools as lt\n",
    "from tqdm import tqdm_notebook as tqdm"
   ]
  },
  {
   "cell_type": "markdown",
   "metadata": {},
   "source": [
    "### Construct count table with all the 17-mers in the genome\n",
    "### You will only need to do this once"
   ]
  },
  {
   "cell_type": "markdown",
   "metadata": {},
   "source": [
    "Warning: This uses more than 64Gb of RAM. "
   ]
  },
  {
   "cell_type": "code",
   "execution_count": 2,
   "metadata": {},
   "outputs": [],
   "source": [
    "names,seqs = ld.fastaread(r'M:\\genome_17w\\hg38\\human_genome.fasta')"
   ]
  },
  {
   "cell_type": "code",
   "execution_count": null,
   "metadata": {},
   "outputs": [],
   "source": [
    "ct = ld.countTable(word=17,save_file=r'M:\\genome_17w\\hg38\\allgenome_17w.bin',sparse=False)\n",
    "for iseq in tqdm(range(len(seqs))):\n",
    "    print names[iseq]\n",
    "    ct.consume(seqs[iseq],verbose=True)\n",
    "ct.complete(verbose=True)\n",
    "ct.save()"
   ]
  },
  {
   "cell_type": "code",
   "execution_count": null,
   "metadata": {},
   "outputs": [],
   "source": []
  },
  {
   "cell_type": "markdown",
   "metadata": {},
   "source": [
    "### Construct target sequences and save a .csv files with results"
   ]
  },
  {
   "cell_type": "code",
   "execution_count": 11,
   "metadata": {},
   "outputs": [],
   "source": [
    "lt.fastawrite(r'E:\\Bogdan\\test.fasta',['test'],['ACGAGCGCGATAGTTAGCAGCGCGATAGCATCGGCGAGCTAGCTAGCTACGGCGGGGCATGATCGACGACGGATGCAGCTAGCGGGCATCTTTAACCAGTATGCAGCATGGATCGACGATCGACGGCATGCGATCGATGCAGTCGA'])\n",
    "lt.fastawrite(r'E:\\Bogdan\\test_rep.fasta',['test'],['ACGAGCGCGATAGTTAGCAGCGCGATAGCATCGGCGAGCTAGCTAGCTACGGCGGGGCATGTTTTTTTTTTTTTTTTTTTTTTTTTTTTTTTTTT'])"
   ]
  },
  {
   "cell_type": "code",
   "execution_count": 18,
   "metadata": {},
   "outputs": [
    {
     "data": {
      "text/plain": [
       "20"
      ]
     },
     "execution_count": 18,
     "metadata": {},
     "output_type": "execute_result"
    }
   ],
   "source": [
    "len('GCTAGCTACGGCGGGGCATG')"
   ]
  },
  {
   "cell_type": "code",
   "execution_count": 16,
   "metadata": {},
   "outputs": [
    {
     "name": "stdout",
     "output_type": "stream",
     "text": [
      "Setting attribute: map_input\n",
      "Mapping no. of seqs: 1\n",
      "Setting attribute: map_rep_genome\n",
      "Mapping no. of seqs: 1\n",
      "Time(s): 0.0170001983643\n",
      "Dealing with sequence: 1 out of 1\n",
      "Time(s): 0.162000179291\n",
      "Picking non-overlaping sequences.\n",
      "Time(s): 0.00999999046326\n"
     ]
    }
   ],
   "source": [
    "reload(ld)\n",
    "\n",
    "in_file = r'E:\\Bogdan\\test.fasta'\n",
    "#isoform_file = r'E:\\Bogdan\\Sox2Probes\\sox2.fasta'\n",
    "save_file = in_file.replace('.fasta','.pbr')\n",
    "\n",
    "\n",
    "\n",
    "rep_genome_fl = r'E:\\Bogdan\\test_rep.fasta' #Downlaod this from repbase\n",
    "#local_genome_fl = in_files\n",
    "\n",
    "\n",
    "pb_designer = ld.pb_reports_class(\n",
    "    sequence_dic={'file':in_file,'use_revc':True,'use_kmer':True},\n",
    "    map_dic={\n",
    "          'rep_genome':{'file':rep_genome_fl,'use_revc':True,'use_kmer':True},\n",
    "          'input':{'file':in_file,'use_revc':True,'use_kmer':True}},\n",
    "    save_file=save_file,\n",
    "    params_dic={'word_size':17,'pb_len':42,'buffer_len':2,'max_count':2**16-1,'check_on_go':False,'auto':False},\n",
    "    dic_check={'rep_genome':0,# how many 17-mer max hits to the repetitive genome\n",
    "               'gc':[0.25,0.75],#gc range\n",
    "               'tm':70})\n",
    "\n",
    "pb_designer.computeOTmaps()\n",
    "pb_designer.compute_pb_report()\n",
    "pb_designer.perform_check_end()\n",
    "pb_designer.plots(sz_bin=200.0)\n",
    "pb_designer.save_csv(name='test')"
   ]
  },
  {
   "cell_type": "code",
   "execution_count": 17,
   "metadata": {},
   "outputs": [
    {
     "data": {
      "text/plain": [
       "'GCTACGGCGGGGCATGATCGACGACGGATGCAGCTAGCGGGC'"
      ]
     },
     "execution_count": 17,
     "metadata": {},
     "output_type": "execute_result"
    }
   ],
   "source": [
    "lt.seqrc('GCCCGCTAGCTGCATCCGTCGTCGATCATGCCCCGCCGTAGC')"
   ]
  },
  {
   "cell_type": "code",
   "execution_count": null,
   "metadata": {},
   "outputs": [],
   "source": [
    "reload(ld)\n",
    "\n",
    "in_file = r'region_of_interest.fasta'\n",
    "isoform_file = r'E:\\Bogdan\\Sox2Probes\\sox2.fasta'\n",
    "save_file = in_file.replace('.fasta','.pbr')\n",
    "\n",
    "\n",
    "genome_fl = r'hg38\\allgenome_17w_new.npy'\n",
    "rep_genome_fl = r'repeatSequences.fasta' #Downlaod this from repbase\n",
    "#local_genome_fl = in_files\n",
    "\n",
    "\n",
    "pb_designer = ld.pb_reports_class(\n",
    "    sequence_dic={'file':in_file,'use_revc':True,'use_kmer':True},\n",
    "    map_dic={'genome':{'file':genome_fl,'use_revc':True,'use_kmer':True},\n",
    "          'rep_genome':{'file':rep_genome_fl,'use_revc':True,'use_kmer':True},\n",
    "          'input':{'file':in_file,'use_revc':True,'use_kmer':True}},\n",
    "    save_file=save_file,\n",
    "    params_dic={'word_size':17,'pb_len':42,'buffer_len':2,'max_count':2**16-1,'check_on_go':False,'auto':False},\n",
    "    dic_check={('genome','input'):75,#how many 17-mers offtarget allowed 75-150 is reasonable range against the genome\n",
    "                'rep_genome':0,# how many 17-mer max hits to the repetitive genome\n",
    "               'gc':[0.25,0.75],#gc range\n",
    "               'tm':70})\n",
    "\n",
    "pb_designer.computeOTmaps()\n",
    "pb_designer.compute_pb_report()\n",
    "pb_designer.perform_check_end()\n",
    "pb_designer.plots(sz_bin=200.0)\n",
    "pb_designer.save_csv(name='region_of_interest')"
   ]
  }
 ],
 "metadata": {
  "anaconda-cloud": {},
  "kernelspec": {
   "display_name": "Python 2",
   "language": "python",
   "name": "python2"
  },
  "language_info": {
   "codemirror_mode": {
    "name": "ipython",
    "version": 2
   },
   "file_extension": ".py",
   "mimetype": "text/x-python",
   "name": "python",
   "nbconvert_exporter": "python",
   "pygments_lexer": "ipython2",
   "version": "2.7.16"
  }
 },
 "nbformat": 4,
 "nbformat_minor": 2
}
